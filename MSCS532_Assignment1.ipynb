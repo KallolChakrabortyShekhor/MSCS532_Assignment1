{
 "cells": [
  {
   "cell_type": "code",
   "execution_count": 1,
   "id": "2e50084a",
   "metadata": {},
   "outputs": [],
   "source": [
    "# Function to sort a list in descending order using insertion sort\n",
    "def sort_descending(data):\n",
    "    # Iterate through each element in the list starting from the second element\n",
    "    for idx in range(1, len(data)):\n",
    "        current_element = data[idx]\n",
    "        pos = idx\n",
    "\n",
    "        # Shift elements of data[0..idx-1] that are smaller than current_element\n",
    "        # to the right by one position\n",
    "        while pos > 0 and data[pos - 1] < current_element:\n",
    "            data[pos] = data[pos - 1]\n",
    "            pos -= 1\n",
    "\n",
    "        # Insert the current element at its correct position\n",
    "        data[pos] = current_element\n",
    "\n",
    "    return data"
   ]
  },
  {
   "cell_type": "code",
   "execution_count": 2,
   "id": "06821df1",
   "metadata": {},
   "outputs": [
    {
     "name": "stdout",
     "output_type": "stream",
     "text": [
      "Enter a series of integers separated by spaces: 2 45 8 78 96 44 55 62\n",
      "Sorted list in descending order:\n",
      "[96, 78, 62, 55, 45, 44, 8, 2]\n"
     ]
    }
   ],
   "source": [
    "# Entry point of the program\n",
    "if __name__ == \"__main__\":\n",
    "    # Step 1: Ask the user to input a series of numbers\n",
    "    user_input = input(\"Enter a series of integers separated by spaces: \")\n",
    "\n",
    "    # Step 2: Transform the input string into a list of integers\n",
    "    numbers_list = [int(num) for num in user_input.split()]\n",
    "\n",
    "    # Step 3: Call the sorting function to sort the list in descending order\n",
    "    sorted_list = sort_descending(numbers_list)\n",
    "\n",
    "    # Step 4: Display the sorted list\n",
    "    print(\"Sorted list in descending order:\")\n",
    "    print(sorted_list)"
   ]
  },
  {
   "cell_type": "code",
   "execution_count": null,
   "id": "83cd5934",
   "metadata": {},
   "outputs": [],
   "source": []
  }
 ],
 "metadata": {
  "kernelspec": {
   "display_name": "Python 3 (ipykernel)",
   "language": "python",
   "name": "python3"
  },
  "language_info": {
   "codemirror_mode": {
    "name": "ipython",
    "version": 3
   },
   "file_extension": ".py",
   "mimetype": "text/x-python",
   "name": "python",
   "nbconvert_exporter": "python",
   "pygments_lexer": "ipython3",
   "version": "3.11.5"
  }
 },
 "nbformat": 4,
 "nbformat_minor": 5
}
